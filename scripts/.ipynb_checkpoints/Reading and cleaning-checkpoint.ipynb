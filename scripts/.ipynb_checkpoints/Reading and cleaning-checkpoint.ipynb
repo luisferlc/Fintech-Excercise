{
 "cells": [
  {
   "cell_type": "markdown",
   "id": "31ee5727",
   "metadata": {},
   "source": [
    "# Libraries"
   ]
  },
  {
   "cell_type": "code",
   "execution_count": 1,
   "id": "59ea0f6d",
   "metadata": {},
   "outputs": [],
   "source": [
    "import pandas as pd\n",
    "import pandas.io.sql as sqlio\n",
    "import psycopg2 as ps"
   ]
  },
  {
   "cell_type": "markdown",
   "id": "eb36b890",
   "metadata": {},
   "source": [
    "# 0. Connection to Postgre"
   ]
  },
  {
   "cell_type": "code",
   "execution_count": 2,
   "id": "7ca5683a",
   "metadata": {},
   "outputs": [],
   "source": [
    "con = ps.connect(dbname=\"fintech\",\n",
    "                   user = \"postgres\",\n",
    "                   password = \"lolita\",\n",
    "                   host = \"localhost\",\n",
    "                   port = \"5432\")"
   ]
  },
  {
   "cell_type": "code",
   "execution_count": 3,
   "id": "a1268508",
   "metadata": {},
   "outputs": [],
   "source": [
    "sql = \"\"\"select * from fintech_user_f\"\"\""
   ]
  },
  {
   "cell_type": "code",
   "execution_count": 4,
   "id": "5a4e0d55",
   "metadata": {},
   "outputs": [
    {
     "name": "stderr",
     "output_type": "stream",
     "text": [
      "C:\\Users\\luisf\\AppData\\Local\\Temp\\ipykernel_21084\\2699896095.py:1: UserWarning: pandas only supports SQLAlchemy connectable (engine/connection) or database string URI or sqlite3 DBAPI2 connection. Other DBAPI2 objects are not tested. Please consider using SQLAlchemy.\n",
      "  df = sqlio.read_sql_query(sql, con)\n"
     ]
    }
   ],
   "source": [
    "df = sqlio.read_sql_query(sql, con)"
   ]
  },
  {
   "cell_type": "code",
   "execution_count": 5,
   "id": "0dd91b4c",
   "metadata": {},
   "outputs": [
    {
     "data": {
      "text/html": [
       "<div>\n",
       "<style scoped>\n",
       "    .dataframe tbody tr th:only-of-type {\n",
       "        vertical-align: middle;\n",
       "    }\n",
       "\n",
       "    .dataframe tbody tr th {\n",
       "        vertical-align: top;\n",
       "    }\n",
       "\n",
       "    .dataframe thead th {\n",
       "        text-align: right;\n",
       "    }\n",
       "</style>\n",
       "<table border=\"1\" class=\"dataframe\">\n",
       "  <thead>\n",
       "    <tr style=\"text-align: right;\">\n",
       "      <th></th>\n",
       "      <th>user_id</th>\n",
       "      <th>churn</th>\n",
       "      <th>age</th>\n",
       "      <th>housing</th>\n",
       "      <th>credit_score</th>\n",
       "      <th>deposits</th>\n",
       "      <th>withdrawal</th>\n",
       "      <th>purchases_partners</th>\n",
       "      <th>purchases</th>\n",
       "      <th>cc_taken</th>\n",
       "      <th>...</th>\n",
       "      <th>registered_phones</th>\n",
       "      <th>payment_type</th>\n",
       "      <th>waiting_4_loan</th>\n",
       "      <th>cancelled_loan</th>\n",
       "      <th>received_loan</th>\n",
       "      <th>rejected_loan</th>\n",
       "      <th>zodiac_sign</th>\n",
       "      <th>rewards_earned</th>\n",
       "      <th>reward_rate</th>\n",
       "      <th>is_referred</th>\n",
       "    </tr>\n",
       "  </thead>\n",
       "  <tbody>\n",
       "    <tr>\n",
       "      <th>0</th>\n",
       "      <td>1</td>\n",
       "      <td>False</td>\n",
       "      <td>21.0</td>\n",
       "      <td>R</td>\n",
       "      <td>577.0</td>\n",
       "      <td>48</td>\n",
       "      <td>4</td>\n",
       "      <td>52</td>\n",
       "      <td>45</td>\n",
       "      <td>0</td>\n",
       "      <td>...</td>\n",
       "      <td>2</td>\n",
       "      <td>Semi-Monthly</td>\n",
       "      <td>False</td>\n",
       "      <td>False</td>\n",
       "      <td>False</td>\n",
       "      <td>False</td>\n",
       "      <td>Pisces</td>\n",
       "      <td>56.0</td>\n",
       "      <td>1.87</td>\n",
       "      <td>False</td>\n",
       "    </tr>\n",
       "    <tr>\n",
       "      <th>1</th>\n",
       "      <td>4</td>\n",
       "      <td>False</td>\n",
       "      <td>35.0</td>\n",
       "      <td>R</td>\n",
       "      <td>566.0</td>\n",
       "      <td>15</td>\n",
       "      <td>0</td>\n",
       "      <td>73</td>\n",
       "      <td>15</td>\n",
       "      <td>0</td>\n",
       "      <td>...</td>\n",
       "      <td>0</td>\n",
       "      <td>Semi-Monthly</td>\n",
       "      <td>False</td>\n",
       "      <td>False</td>\n",
       "      <td>False</td>\n",
       "      <td>False</td>\n",
       "      <td>na</td>\n",
       "      <td>49.0</td>\n",
       "      <td>1.63</td>\n",
       "      <td>False</td>\n",
       "    </tr>\n",
       "    <tr>\n",
       "      <th>2</th>\n",
       "      <td>8</td>\n",
       "      <td>True</td>\n",
       "      <td>31.0</td>\n",
       "      <td>na</td>\n",
       "      <td>519.0</td>\n",
       "      <td>0</td>\n",
       "      <td>0</td>\n",
       "      <td>0</td>\n",
       "      <td>0</td>\n",
       "      <td>0</td>\n",
       "      <td>...</td>\n",
       "      <td>0</td>\n",
       "      <td>Bi-Weekly</td>\n",
       "      <td>False</td>\n",
       "      <td>False</td>\n",
       "      <td>False</td>\n",
       "      <td>False</td>\n",
       "      <td>Virgo</td>\n",
       "      <td>18.0</td>\n",
       "      <td>0.60</td>\n",
       "      <td>True</td>\n",
       "    </tr>\n",
       "    <tr>\n",
       "      <th>3</th>\n",
       "      <td>9</td>\n",
       "      <td>False</td>\n",
       "      <td>26.0</td>\n",
       "      <td>na</td>\n",
       "      <td>NaN</td>\n",
       "      <td>0</td>\n",
       "      <td>0</td>\n",
       "      <td>30</td>\n",
       "      <td>0</td>\n",
       "      <td>0</td>\n",
       "      <td>...</td>\n",
       "      <td>2</td>\n",
       "      <td>Weekly</td>\n",
       "      <td>False</td>\n",
       "      <td>False</td>\n",
       "      <td>False</td>\n",
       "      <td>False</td>\n",
       "      <td>Sagittarius</td>\n",
       "      <td>23.0</td>\n",
       "      <td>0.77</td>\n",
       "      <td>False</td>\n",
       "    </tr>\n",
       "    <tr>\n",
       "      <th>4</th>\n",
       "      <td>10</td>\n",
       "      <td>False</td>\n",
       "      <td>33.0</td>\n",
       "      <td>R</td>\n",
       "      <td>558.0</td>\n",
       "      <td>0</td>\n",
       "      <td>0</td>\n",
       "      <td>76</td>\n",
       "      <td>0</td>\n",
       "      <td>0</td>\n",
       "      <td>...</td>\n",
       "      <td>0</td>\n",
       "      <td>Bi-Weekly</td>\n",
       "      <td>False</td>\n",
       "      <td>False</td>\n",
       "      <td>False</td>\n",
       "      <td>False</td>\n",
       "      <td>Leo</td>\n",
       "      <td>45.0</td>\n",
       "      <td>1.50</td>\n",
       "      <td>True</td>\n",
       "    </tr>\n",
       "  </tbody>\n",
       "</table>\n",
       "<p>5 rows × 29 columns</p>\n",
       "</div>"
      ],
      "text/plain": [
       "   user_id  churn   age housing  credit_score  deposits  withdrawal  \\\n",
       "0        1  False  21.0       R         577.0        48           4   \n",
       "1        4  False  35.0       R         566.0        15           0   \n",
       "2        8   True  31.0      na         519.0         0           0   \n",
       "3        9  False  26.0      na           NaN         0           0   \n",
       "4       10  False  33.0       R         558.0         0           0   \n",
       "\n",
       "   purchases_partners  purchases  cc_taken  ...  registered_phones  \\\n",
       "0                  52         45         0  ...                  2   \n",
       "1                  73         15         0  ...                  0   \n",
       "2                   0          0         0  ...                  0   \n",
       "3                  30          0         0  ...                  2   \n",
       "4                  76          0         0  ...                  0   \n",
       "\n",
       "   payment_type  waiting_4_loan  cancelled_loan  received_loan  rejected_loan  \\\n",
       "0  Semi-Monthly           False           False          False          False   \n",
       "1  Semi-Monthly           False           False          False          False   \n",
       "2     Bi-Weekly           False           False          False          False   \n",
       "3        Weekly           False           False          False          False   \n",
       "4     Bi-Weekly           False           False          False          False   \n",
       "\n",
       "   zodiac_sign  rewards_earned  reward_rate  is_referred  \n",
       "0       Pisces            56.0         1.87        False  \n",
       "1           na            49.0         1.63        False  \n",
       "2        Virgo            18.0         0.60         True  \n",
       "3  Sagittarius            23.0         0.77        False  \n",
       "4          Leo            45.0         1.50         True  \n",
       "\n",
       "[5 rows x 29 columns]"
      ]
     },
     "execution_count": 5,
     "metadata": {},
     "output_type": "execute_result"
    }
   ],
   "source": [
    "df.head()"
   ]
  },
  {
   "cell_type": "markdown",
   "id": "67766028",
   "metadata": {},
   "source": [
    "---\n",
    "---\n",
    "# 1.Cleaning and formatting"
   ]
  },
  {
   "cell_type": "markdown",
   "id": "b589f05a",
   "metadata": {},
   "source": [
    "## 1.0 Null values\n",
    "### 1.0.0 NaNs"
   ]
  },
  {
   "cell_type": "code",
   "execution_count": 6,
   "id": "7d72ec83",
   "metadata": {},
   "outputs": [
    {
     "data": {
      "text/plain": [
       "user_id                    0\n",
       "churn                      0\n",
       "age                        4\n",
       "housing                    0\n",
       "credit_score            7369\n",
       "deposits                   0\n",
       "withdrawal                 0\n",
       "purchases_partners         0\n",
       "purchases                  0\n",
       "cc_taken                   0\n",
       "cc_recommended             0\n",
       "cc_disliked                0\n",
       "cc_liked                   0\n",
       "cc_application_begin       0\n",
       "app_downloaded             0\n",
       "web_user                   0\n",
       "app_web_user               0\n",
       "ios_user                   0\n",
       "android_user               0\n",
       "registered_phones          0\n",
       "payment_type               0\n",
       "waiting_4_loan             0\n",
       "cancelled_loan             0\n",
       "received_loan              0\n",
       "rejected_loan              0\n",
       "zodiac_sign                0\n",
       "rewards_earned          2996\n",
       "reward_rate                0\n",
       "is_referred                0\n",
       "dtype: int64"
      ]
     },
     "execution_count": 6,
     "metadata": {},
     "output_type": "execute_result"
    }
   ],
   "source": [
    "df.isna().sum()"
   ]
  },
  {
   "cell_type": "code",
   "execution_count": 7,
   "id": "664ab80f",
   "metadata": {},
   "outputs": [
    {
     "name": "stdout",
     "output_type": "stream",
     "text": [
      "NaNs in credit_score represent 29.78456812578311 % of total rows.\n",
      "NaNs in rewards represent 12.109453942847905 % of total rows.\n"
     ]
    }
   ],
   "source": [
    "print(\"NaNs in credit_score represent\",df[df.credit_score.isna()].shape[0]/df.shape[0]*100, \"% of total rows.\")\n",
    "print(\"NaNs in rewards represent\",df[df.rewards_earned.isna()].shape[0]/df.shape[0]*100, \"% of total rows.\")"
   ]
  },
  {
   "cell_type": "markdown",
   "id": "e1af4209",
   "metadata": {},
   "source": [
    "_Filling rewards with 0s_"
   ]
  },
  {
   "cell_type": "code",
   "execution_count": 8,
   "id": "d0231190",
   "metadata": {},
   "outputs": [
    {
     "data": {
      "text/plain": [
       "array([ 56.,  49.,  18.,  23.,  45.,  60.,  61.,  53.,  37.,  34.,  12.,\n",
       "        13.,  47.,  40.,  26.,  35.,  25.,  10.,  65.,  29.,  22.,  75.,\n",
       "        44.,  63.,  32.,  51.,  41.,   5.,  21.,   6.,  67.,   2.,  68.,\n",
       "        52.,  84.,   9.,  59.,  nan,  64.,  15.,  11.,  14.,  54.,  46.,\n",
       "        24.,  48.,  33.,   4.,  58.,  43.,  19.,   1.,  50.,  17.,   3.,\n",
       "        57.,  28.,  69.,   7.,  16.,  55.,  30.,  39.,  31.,  66.,  27.,\n",
       "         8.,  42.,  72.,  36.,  76.,  62.,  20.,  38.,  71.,  90.,  80.,\n",
       "        78.,  77.,  81.,  70.,  74.,  73.,  87.,  79.,  85.,  86.,  83.,\n",
       "       114.,  99.,  82.,  88.])"
      ]
     },
     "execution_count": 8,
     "metadata": {},
     "output_type": "execute_result"
    }
   ],
   "source": [
    "df.rewards_earned.unique()"
   ]
  },
  {
   "cell_type": "code",
   "execution_count": 9,
   "id": "d330c3c6",
   "metadata": {},
   "outputs": [],
   "source": [
    "df.rewards_earned = df.rewards_earned.fillna(0.)"
   ]
  },
  {
   "cell_type": "markdown",
   "id": "d95cb46e",
   "metadata": {},
   "source": [
    "_Putting mean in credit_score NaN values_"
   ]
  },
  {
   "cell_type": "code",
   "execution_count": 10,
   "id": "f23d2224",
   "metadata": {},
   "outputs": [],
   "source": [
    "df.credit_score = df.credit_score.fillna(df.credit_score.mean())"
   ]
  },
  {
   "cell_type": "code",
   "execution_count": 11,
   "id": "4b9af008",
   "metadata": {},
   "outputs": [
    {
     "name": "stdout",
     "output_type": "stream",
     "text": [
      "NaNs in credit_score represent 0.0 % of total rows.\n",
      "NaNs in rewards represent 0.0 % of total rows.\n"
     ]
    }
   ],
   "source": [
    "print(\"NaNs in credit_score represent\",df[df.credit_score.isna()].shape[0]/df.shape[0]*100, \"% of total rows.\")\n",
    "print(\"NaNs in rewards represent\",df[df.rewards_earned.isna()].shape[0]/df.shape[0]*100, \"% of total rows.\")"
   ]
  },
  {
   "cell_type": "markdown",
   "id": "a5a65293",
   "metadata": {},
   "source": [
    "### 1.1.1 NaNs in str format"
   ]
  },
  {
   "cell_type": "code",
   "execution_count": 24,
   "id": "027e524f",
   "metadata": {},
   "outputs": [
    {
     "name": "stdout",
     "output_type": "stream",
     "text": [
      "user_id [    1     8     9 ... 69653 69655 69658]\n",
      "churn [False  True]\n",
      "age [21. 31. 26. 33. 54. 27. 28. 42. 25. 38. 24. 44. 30. 41. 36. 49. 22. 65.\n",
      " 52. 45. 29. 35. 18. 51. 32. 43. 34. 19. 40. 48. 46. 23. 56. 37. 20. 39.\n",
      " 66. 62. 47. 75. 60. 53. 61. 50. 55. 70. 64. 58. 63. 57. 59. 69. 84. 91.\n",
      " 73. 17. 78. 89. 72. 68. 85. 67. 77. 74. 71. 80. 82. 83. 87. 81. 76. 79.]\n",
      "credit_score [577.         519.         542.51559982 558.         559.\n",
      " 554.         501.         495.         500.         533.\n",
      " 532.         557.         590.         494.         550.\n",
      " 562.         609.         481.         655.         364.\n",
      " 525.         569.         513.         473.         555.\n",
      " 649.         528.         526.         596.         620.\n",
      " 454.         538.         647.         506.         490.\n",
      " 613.         530.         461.         413.         588.\n",
      " 581.         587.         535.         687.         491.\n",
      " 472.         605.         570.         597.         545.\n",
      " 638.         539.         531.         636.         571.\n",
      " 566.         705.         464.         499.         361.\n",
      " 567.         452.         542.         606.         582.\n",
      " 511.         661.         527.         459.         416.\n",
      " 563.         547.         408.         446.         443.\n",
      " 548.         529.         575.         615.         592.\n",
      " 580.         573.         552.         700.         521.\n",
      " 621.         591.         479.         517.         489.\n",
      " 632.         475.         465.         422.         444.\n",
      " 467.         496.         522.         672.         503.\n",
      " 608.         524.         516.         540.         572.\n",
      " 512.         583.         423.         502.         476.\n",
      " 478.         450.         670.         457.         568.\n",
      " 486.         417.         546.         579.         604.\n",
      " 622.         561.         483.         595.         619.\n",
      " 488.         654.         508.         556.         447.\n",
      " 536.         585.         514.         470.         509.\n",
      " 553.         469.         549.         428.         537.\n",
      " 576.         541.         493.         505.         520.\n",
      " 612.         663.         610.         551.         637.\n",
      " 574.         523.         584.         439.         425.\n",
      " 600.         753.         711.         504.         405.\n",
      " 603.         641.         723.         642.         690.\n",
      " 429.         460.         507.         602.         564.\n",
      " 630.         796.         594.         617.         671.\n",
      " 453.         456.         623.         599.         625.\n",
      " 427.         565.         593.         586.         414.\n",
      " 492.         379.         578.         626.         474.\n",
      " 643.         497.         624.         544.         631.\n",
      " 432.         498.         664.         518.         616.\n",
      " 433.         633.         645.         477.         394.\n",
      " 515.         560.         653.         627.         607.\n",
      " 759.         598.         510.         635.         675.\n",
      " 660.         589.         651.         614.         629.\n",
      " 688.         686.         424.         731.         357.\n",
      " 534.         471.         484.         463.         676.\n",
      " 816.         485.         618.         728.         369.\n",
      " 693.         468.         426.         431.         434.\n",
      " 543.         455.         445.           3.         383.\n",
      " 482.         639.         449.         436.         487.\n",
      " 330.         451.         442.         757.         657.\n",
      " 462.         652.         668.         659.         648.\n",
      " 656.         679.         678.         611.         480.\n",
      " 640.         375.         628.         702.         438.\n",
      " 646.         666.         421.         634.         441.\n",
      " 435.         440.         695.         387.         667.\n",
      " 729.         644.         419.         743.         458.\n",
      " 411.         662.         696.         437.         730.\n",
      " 680.         409.         714.         397.         685.\n",
      " 650.         717.         601.         760.         448.\n",
      " 466.         669.         390.         418.         677.\n",
      " 340.         407.         701.         363.         699.\n",
      " 737.         395.         399.         380.         718.\n",
      " 736.         430.         713.         396.         823.\n",
      " 681.         402.         778.         302.         692.\n",
      " 741.         367.         658.         724.         674.\n",
      " 781.         779.         401.         382.         415.\n",
      " 403.         381.         689.         420.         747.\n",
      " 400.         356.         712.         748.         698.\n",
      " 707.         801.         385.         358.         799.\n",
      " 377.         392.         752.         812.         304.\n",
      " 410.         744.         733.         751.         388.\n",
      " 311.         412.         709.         815.         697.\n",
      " 691.         365.         354.         404.         706.\n",
      " 761.         791.         665.         683.         378.\n",
      " 806.         386.         393.         684.         824.\n",
      " 780.         355.         389.         673.         721.\n",
      " 703.         807.         720.         716.         353.\n",
      " 391.         366.         819.         785.         772.\n",
      " 708.         345.         406.         784.         303.\n",
      " 323.         374.         715.           2.         746.\n",
      " 344.         745.         726.         710.         727.\n",
      " 732.         682.         838.         775.         704.\n",
      " 725.         373.         371.         769.         800.\n",
      " 758.         398.         320.         773.         306.\n",
      " 321.         765.         722.         694.         767.\n",
      " 754.         319.         307.         336.         348.\n",
      " 370.         346.         359.         782.         352.\n",
      " 802.         762.         376.         342.         327.\n",
      " 739.         341.         719.         777.         362.\n",
      " 818.         740.        ]\n",
      "deposits [48  0  2  1 60 17 10 12 11 52 16 29  7  3 13  9 43 55 20 38 21 59  6 62\n",
      "  4 23  5 37 15 44 46  8 18 41 34 53 56 14 27 32 50 54 45 25 42 22 31 30\n",
      " 24 19 57 35 39 58 47 26 36 33 28 40 51 61 49 64 63 65]\n",
      "withdrawal [ 4  0  1 13  2  3  6  5  8 11  7 10  9 19 16 12 14 15 20 17 29 28 24]\n",
      "purchases_partners [  52    0   30   76  206  114   81  169   11    1   15   58   62   39\n",
      "   27  133   14   89   22  160   48   92   61   84    4   34    9   25\n",
      "  113   74   21  149   99   32   24   28   41   71   67  103   19   44\n",
      "   60   26   47   55   82   96   42    2    3   57  143    5   37  100\n",
      "  111   95   63  154   51   73   46   29   94   17  105  108   65   20\n",
      "   66   40  118   80   16   64   38   50   18   97   35   68   54   72\n",
      "    6   83   56   45   12   88   13   36   90   78    7   10   43  110\n",
      "    8  148  115  122  226  136   33  176  204  138  270   53  183   70\n",
      "  123   77   23  304   49  283  135   31  102  134   59  249   69   91\n",
      "   93  112  127  116  216  207  101   79  147  200  104   75  130   98\n",
      "  173  126  168  106  132  119  179  142  159   87  175   86  162  144\n",
      "  170  178  192  107  189   85  145  156  125  193  252  172  139  163\n",
      "  161  141  109  290  131  201  124  243  188  151  155  165  137  203\n",
      "  267  120  214  327  244  191  152  157  121  232  180  164  342  117\n",
      "  129  278  205  231  272  140  174  223  222  185  259  210  247  299\n",
      "  408  212  309  128  194  273  184  250  709  209  167  182  146  158\n",
      "  225  187  229  268  242  202  198  236  524  197  150  350  694  293\n",
      "  213  171  833  217  153  269  237  406  381 1067  612  405  347  234\n",
      "  358  166  196  344  288  181  199  274  332  368  446  228  177  281\n",
      "  195  447  235  224  289  348  215  490  390  233  221  287  285  240\n",
      "  218  208  297  190  227  260  276  241  186]\n",
      "purchases [45  0  2  1 43 17 10 11 50 16 28  7  3 13  8 55 20 37 21 58  6 29 12  4\n",
      " 23  5 36 38 14 15 18 22 41 34 52 56 27 30 49  9 54 53 40 47 19 31 57 35\n",
      " 39 25 46 59 26 42 32 24 51 33 44 48 60 61 63 62]\n",
      "cc_taken [ 0  1  4  3  5  2  6 10 29  8 11  7]\n",
      "cc_recommended [245  49  56 166 304 221 131 184  65  24  32 179 148  64 115  76 215 100\n",
      " 202  63 260 170  30 238  40 282 125 243 196  25  10 150  71  95  68 231\n",
      "  21  14 249   2 264 194 248  31 308   0 192 217 272  59  44 195 205 163\n",
      "  78 156 137 177 289  35 128 180 102  50 230 159 255 191 209 254 162 208\n",
      "  94   1 168  45   5 160 124 145  70 239  39  11 143 157 224  13 123 275\n",
      " 147  57 164 174 153 281 140 104 189 236  17 291 175 233 113 252 270  81\n",
      "  89 193 146  18   4 126 152  77 135 121 165  91 225  69 268 149 266 240\n",
      "  98  58  41  33   3  74  79  36 119  97 133  82 228 141   6 120  80  60\n",
      " 129 116 218 132 293 213 171  28  86  66 216  20  93  19 273 183 118 206\n",
      " 181  85 253  15 169   7  12  54  43 229 287 127  27 105 134 269 176  16\n",
      " 251 151 167 106  75  47   8 290 144 300 114  26 220 103 284  38 296 244\n",
      "  84 200 307 122 155 197  46 136 286 305 306 301 130 267  90  23  72 246\n",
      "  92   9  29 237 219 173 204 182 211  62 139 235 185 178 110 265 161 234\n",
      " 262 259 302 203 278 190 186 312 109 198 199 138 299 226  34  42 222 107\n",
      " 207 212 112 320 279 257  73 158  37 292 111 271 261 283 101 247 241 201\n",
      " 285  51  67  87 256  96 142  22 263 172 276 242 210 280  99 227 117  55\n",
      " 187  53 303  88 232 154  48 223 274 108 250 298 214  83 310 294 258  61\n",
      " 295  52 288 277 315 324 297 188 321 313 522 311 309 314 316 323 318 322\n",
      " 326]\n",
      "cc_disliked [ 0  1  4  3  2  8 15  6  9  7  5 59 11 12 23 10 65 25 13]\n",
      "cc_liked [ 0  1  2  4  9  3  8 10 27]\n",
      "cc_application_begin [ 22   2   5   8  27  18   6  10   0  51   1  12   9  35  23   4  34   3\n",
      "  11  14  17  30   7  28  21  24  36  58  19  13  16  32  62  31  15  78\n",
      "  42  25  49  20  48  26  41  76  29  43  64  44  39  67  81  40  56  73\n",
      "  88  38  37  47  70  92  45  33  53  50  79 106  52  77  66  71  89  57\n",
      "  87 100  91  61 147  55 183  86  84  60 230 105  46  68 115 119 101 108\n",
      "  54  74 129  83 138  90  65 118 136  69  96  63  72  59 123 148 107 109\n",
      "  75 112  99  93  82 104 263 113 161  94 111 114 126 140 116  95  98 184]\n",
      "app_downloaded [ True False]\n",
      "web_user [ True False]\n",
      "app_web_user [ True False]\n",
      "ios_user [False  True]\n",
      "android_user [ True False]\n",
      "registered_phones [2 0 4 3 5]\n",
      "payment_type ['Semi-Monthly' 'Bi-Weekly' 'Weekly' 'na' 'Monthly']\n",
      "waiting_4_loan [False  True]\n",
      "cancelled_loan [False  True]\n",
      "received_loan [False  True]\n",
      "rejected_loan [False  True]\n",
      "zodiac_sign ['Pisces' 'Virgo' 'Sagittarius' 'Leo' 'Capricorn' 'Gemini' 'Cancer'\n",
      " 'Scorpio' 'Libra' 'Taurus' 'Aquarius' 'Aries']\n",
      "rewards_earned [ 56.  18.  23.  45.  60.  61.  53.  37.  12.  13.  47.  40.  26.  35.\n",
      "  25.  49.  10.  65.  22.  75.  63.  32.  51.  41.   5.  21.   6.  67.\n",
      "   2.  68.  52.  84.   9.   0.  64.  15.  11.  14.  54.  46.  24.  48.\n",
      "  34.  33.  58.  43.  19.   1.  50.  17.   3.  57.  44.  28.  69.   7.\n",
      "  16.  55.  30.  39.  31.  66.  27.   8.   4.  42.  72.  36.  76.  62.\n",
      "  20.  38.  71.  59.  29.  90.  80.  78.  77.  81.  70.  74.  73.  87.\n",
      "  79.  85.  86.  83. 114.  99.  82.  88.]\n",
      "reward_rate [1.87 0.6  0.77 1.5  2.   2.03 1.77 1.23 0.4  0.43 1.57 1.33 0.87 1.17\n",
      " 0.83 1.47 1.63 0.37 2.17 0.73 2.5  2.1  1.07 1.7  1.37 0.17 0.7  0.2\n",
      " 2.23 0.07 2.27 1.73 2.8  0.41 0.   2.13 0.88 0.79 0.47 1.8  1.53 0.8\n",
      " 0.82 1.6  1.13 0.5  1.1  1.93 1.43 1.46 1.67 0.57 1.9  0.03 0.1  0.67\n",
      " 0.93 2.3  0.23 0.53 1.83 3.3  0.63 1.   0.45 1.3  0.96 1.03 2.2  0.9\n",
      " 0.27 0.33 0.13 1.4  2.4  1.2  2.53 0.39 2.07 0.15 0.85 0.3  1.27 2.37\n",
      " 1.97 0.62 0.97 0.95 3.   0.78 0.74 1.85 2.67 2.6  0.61 0.68 2.57 0.89\n",
      " 2.7  0.44 0.36 0.71 0.48 2.33 2.14 2.47 4.   0.65 1.08 2.83 0.29 0.25\n",
      " 0.94 2.43 0.92 0.05 0.46 2.9  0.04 2.63 0.81 0.86 0.64 0.22 0.31 0.32\n",
      " 0.42 1.11 2.87 0.09 0.75 0.76 0.59 0.11 0.91 0.21 3.5  0.72 0.69 0.55\n",
      " 3.67 0.12 2.77 0.58 1.21 1.89 3.8  0.38 0.08 0.56 0.84 3.6  1.25 1.41\n",
      " 0.66 0.52 1.29 1.86 2.78 1.06 0.18 0.28 1.04 2.58 0.35 0.06 0.19 0.14\n",
      " 0.24 1.39 1.05 0.26 0.54 1.24 2.73 1.31 1.88 1.14 1.55 1.35 3.53 1.15\n",
      " 1.38 2.93 0.16 1.09 2.64 1.62 2.11 1.75 1.28]\n",
      "is_referred [False  True]\n"
     ]
    }
   ],
   "source": [
    "for c in df.columns:\n",
    "    print(c,df[c].unique())"
   ]
  },
  {
   "cell_type": "code",
   "execution_count": 12,
   "id": "1f73025d",
   "metadata": {},
   "outputs": [
    {
     "data": {
      "text/plain": [
       "array(['R', 'na', 'O'], dtype=object)"
      ]
     },
     "execution_count": 12,
     "metadata": {},
     "output_type": "execute_result"
    }
   ],
   "source": [
    "# Dont need this column\n",
    "df.housing.unique()"
   ]
  },
  {
   "cell_type": "code",
   "execution_count": 13,
   "id": "07425831",
   "metadata": {},
   "outputs": [],
   "source": [
    "df.drop(columns = 'housing', inplace = True)"
   ]
  },
  {
   "cell_type": "code",
   "execution_count": 14,
   "id": "db46c254",
   "metadata": {},
   "outputs": [
    {
     "data": {
      "text/plain": [
       "array(['Pisces', 'na', 'Virgo', 'Sagittarius', 'Leo', 'Capricorn',\n",
       "       'Gemini', 'Cancer', 'Scorpio', 'Libra', 'Taurus', 'Aquarius',\n",
       "       'Aries'], dtype=object)"
      ]
     },
     "execution_count": 14,
     "metadata": {},
     "output_type": "execute_result"
    }
   ],
   "source": [
    "df.zodiac_sign.unique()"
   ]
  },
  {
   "cell_type": "code",
   "execution_count": 15,
   "id": "455aa468",
   "metadata": {},
   "outputs": [
    {
     "name": "stdout",
     "output_type": "stream",
     "text": [
      "na values in zodiac_sign represent 7.958449537205449 % of total rows.\n"
     ]
    }
   ],
   "source": [
    "print(\"na values in zodiac_sign represent\",df[df.zodiac_sign == 'na'].shape[0]/df.shape[0]*100, \"% of total rows.\")"
   ]
  },
  {
   "cell_type": "code",
   "execution_count": 16,
   "id": "67a1a719",
   "metadata": {},
   "outputs": [],
   "source": [
    "df = df[df.zodiac_sign != 'na'].copy()"
   ]
  },
  {
   "cell_type": "code",
   "execution_count": 21,
   "id": "a1fc071f",
   "metadata": {},
   "outputs": [
    {
     "name": "stdout",
     "output_type": "stream",
     "text": [
      "na values in payment_type represent 14.531002986123308 % of total rows.\n"
     ]
    }
   ],
   "source": [
    "# too much\n",
    "print(\"na values in payment_type represent\",df[df.payment_type == 'na'].shape[0]/df.shape[0]*100, \"% of total rows.\")"
   ]
  },
  {
   "cell_type": "code",
   "execution_count": 25,
   "id": "7176205b",
   "metadata": {},
   "outputs": [],
   "source": [
    "df.payment_type = df.payment_type.fillna(\"Monthly\")"
   ]
  },
  {
   "cell_type": "code",
   "execution_count": null,
   "id": "586cfe54",
   "metadata": {},
   "outputs": [],
   "source": []
  }
 ],
 "metadata": {
  "kernelspec": {
   "display_name": "Python 3 (ipykernel)",
   "language": "python",
   "name": "python3"
  },
  "language_info": {
   "codemirror_mode": {
    "name": "ipython",
    "version": 3
   },
   "file_extension": ".py",
   "mimetype": "text/x-python",
   "name": "python",
   "nbconvert_exporter": "python",
   "pygments_lexer": "ipython3",
   "version": "3.11.5"
  }
 },
 "nbformat": 4,
 "nbformat_minor": 5
}
